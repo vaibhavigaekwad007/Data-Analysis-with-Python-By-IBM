{
 "nbformat": 4,
 "nbformat_minor": 2,
 "metadata": {
  "language_info": {
   "name": "python",
   "codemirror_mode": {
    "name": "ipython",
    "version": 3
   },
   "version": "3.7.4-final"
  },
  "orig_nbformat": 2,
  "file_extension": ".py",
  "mimetype": "text/x-python",
  "name": "python",
  "npconvert_exporter": "python",
  "pygments_lexer": "ipython3",
  "version": 3,
  "kernelspec": {
   "name": "python37464bitbaseconda91dbbf8625b14c4eba5821246d855583",
   "display_name": "Python 3.7.4 64-bit ('base': conda)"
  }
 },
 "cells": [
  {
   "cell_type": "code",
   "execution_count": 216,
   "metadata": {},
   "outputs": [],
   "source": [
    "import pandas as pd \n",
    "import numpy as np\n",
    "import matplotlib.pyplot as plt \n",
    "import seaborn as sns\n",
    "\n",
    "import seaborn as sns\n",
    "\n",
    "url =  \"https://archive.ics.uci.edu/ml/machine-learning-databases/autos/imports-85.data\"\n",
    "df = pd.read_csv(url, header=None)"
   ]
  },
  {
   "cell_type": "code",
   "execution_count": 217,
   "metadata": {},
   "outputs": [
    {
     "output_type": "execute_result",
     "data": {
      "text/plain": "   0    1            2    3    4     5            6    7      8     9   ...  \\\n0   3    ?  alfa-romero  gas  std   two  convertible  rwd  front  88.6  ...   \n1   3    ?  alfa-romero  gas  std   two  convertible  rwd  front  88.6  ...   \n2   1    ?  alfa-romero  gas  std   two    hatchback  rwd  front  94.5  ...   \n3   2  164         audi  gas  std  four        sedan  fwd  front  99.8  ...   \n4   2  164         audi  gas  std  four        sedan  4wd  front  99.4  ...   \n\n    16    17    18    19    20   21    22  23  24     25  \n0  130  mpfi  3.47  2.68   9.0  111  5000  21  27  13495  \n1  130  mpfi  3.47  2.68   9.0  111  5000  21  27  16500  \n2  152  mpfi  2.68  3.47   9.0  154  5000  19  26  16500  \n3  109  mpfi  3.19  3.40  10.0  102  5500  24  30  13950  \n4  136  mpfi  3.19  3.40   8.0  115  5500  18  22  17450  \n\n[5 rows x 26 columns]",
      "text/html": "<div>\n<style scoped>\n    .dataframe tbody tr th:only-of-type {\n        vertical-align: middle;\n    }\n\n    .dataframe tbody tr th {\n        vertical-align: top;\n    }\n\n    .dataframe thead th {\n        text-align: right;\n    }\n</style>\n<table border=\"1\" class=\"dataframe\">\n  <thead>\n    <tr style=\"text-align: right;\">\n      <th></th>\n      <th>0</th>\n      <th>1</th>\n      <th>2</th>\n      <th>3</th>\n      <th>4</th>\n      <th>5</th>\n      <th>6</th>\n      <th>7</th>\n      <th>8</th>\n      <th>9</th>\n      <th>...</th>\n      <th>16</th>\n      <th>17</th>\n      <th>18</th>\n      <th>19</th>\n      <th>20</th>\n      <th>21</th>\n      <th>22</th>\n      <th>23</th>\n      <th>24</th>\n      <th>25</th>\n    </tr>\n  </thead>\n  <tbody>\n    <tr>\n      <td>0</td>\n      <td>3</td>\n      <td>?</td>\n      <td>alfa-romero</td>\n      <td>gas</td>\n      <td>std</td>\n      <td>two</td>\n      <td>convertible</td>\n      <td>rwd</td>\n      <td>front</td>\n      <td>88.6</td>\n      <td>...</td>\n      <td>130</td>\n      <td>mpfi</td>\n      <td>3.47</td>\n      <td>2.68</td>\n      <td>9.0</td>\n      <td>111</td>\n      <td>5000</td>\n      <td>21</td>\n      <td>27</td>\n      <td>13495</td>\n    </tr>\n    <tr>\n      <td>1</td>\n      <td>3</td>\n      <td>?</td>\n      <td>alfa-romero</td>\n      <td>gas</td>\n      <td>std</td>\n      <td>two</td>\n      <td>convertible</td>\n      <td>rwd</td>\n      <td>front</td>\n      <td>88.6</td>\n      <td>...</td>\n      <td>130</td>\n      <td>mpfi</td>\n      <td>3.47</td>\n      <td>2.68</td>\n      <td>9.0</td>\n      <td>111</td>\n      <td>5000</td>\n      <td>21</td>\n      <td>27</td>\n      <td>16500</td>\n    </tr>\n    <tr>\n      <td>2</td>\n      <td>1</td>\n      <td>?</td>\n      <td>alfa-romero</td>\n      <td>gas</td>\n      <td>std</td>\n      <td>two</td>\n      <td>hatchback</td>\n      <td>rwd</td>\n      <td>front</td>\n      <td>94.5</td>\n      <td>...</td>\n      <td>152</td>\n      <td>mpfi</td>\n      <td>2.68</td>\n      <td>3.47</td>\n      <td>9.0</td>\n      <td>154</td>\n      <td>5000</td>\n      <td>19</td>\n      <td>26</td>\n      <td>16500</td>\n    </tr>\n    <tr>\n      <td>3</td>\n      <td>2</td>\n      <td>164</td>\n      <td>audi</td>\n      <td>gas</td>\n      <td>std</td>\n      <td>four</td>\n      <td>sedan</td>\n      <td>fwd</td>\n      <td>front</td>\n      <td>99.8</td>\n      <td>...</td>\n      <td>109</td>\n      <td>mpfi</td>\n      <td>3.19</td>\n      <td>3.40</td>\n      <td>10.0</td>\n      <td>102</td>\n      <td>5500</td>\n      <td>24</td>\n      <td>30</td>\n      <td>13950</td>\n    </tr>\n    <tr>\n      <td>4</td>\n      <td>2</td>\n      <td>164</td>\n      <td>audi</td>\n      <td>gas</td>\n      <td>std</td>\n      <td>four</td>\n      <td>sedan</td>\n      <td>4wd</td>\n      <td>front</td>\n      <td>99.4</td>\n      <td>...</td>\n      <td>136</td>\n      <td>mpfi</td>\n      <td>3.19</td>\n      <td>3.40</td>\n      <td>8.0</td>\n      <td>115</td>\n      <td>5500</td>\n      <td>18</td>\n      <td>22</td>\n      <td>17450</td>\n    </tr>\n  </tbody>\n</table>\n<p>5 rows × 26 columns</p>\n</div>"
     },
     "metadata": {},
     "execution_count": 217
    }
   ],
   "source": [
    "# show first n rows of the dataset\n",
    "df.head(5)"
   ]
  },
  {
   "cell_type": "code",
   "execution_count": 218,
   "metadata": {},
   "outputs": [
    {
     "output_type": "execute_result",
     "data": {
      "text/plain": "   symboling normalized-losses         make fuel-type aspiration num-of-doors  \\\n0          3                 ?  alfa-romero       gas        std          two   \n1          3                 ?  alfa-romero       gas        std          two   \n2          1                 ?  alfa-romero       gas        std          two   \n3          2               164         audi       gas        std         four   \n4          2               164         audi       gas        std         four   \n\n    body-style drive-wheels engine-location  wheel-base: continuous  ...  \\\n0  convertible          rwd           front                    88.6  ...   \n1  convertible          rwd           front                    88.6  ...   \n2    hatchback          rwd           front                    94.5  ...   \n3        sedan          fwd           front                    99.8  ...   \n4        sedan          4wd           front                    99.4  ...   \n\n   engine-size  fuel-system  bore  stroke compression-ratio horsepower  \\\n0          130         mpfi  3.47    2.68               9.0        111   \n1          130         mpfi  3.47    2.68               9.0        111   \n2          152         mpfi  2.68    3.47               9.0        154   \n3          109         mpfi  3.19    3.40              10.0        102   \n4          136         mpfi  3.19    3.40               8.0        115   \n\n   peak-rpm city-mpg highway-mpg  price  \n0      5000       21          27  13495  \n1      5000       21          27  16500  \n2      5000       19          26  16500  \n3      5500       24          30  13950  \n4      5500       18          22  17450  \n\n[5 rows x 26 columns]",
      "text/html": "<div>\n<style scoped>\n    .dataframe tbody tr th:only-of-type {\n        vertical-align: middle;\n    }\n\n    .dataframe tbody tr th {\n        vertical-align: top;\n    }\n\n    .dataframe thead th {\n        text-align: right;\n    }\n</style>\n<table border=\"1\" class=\"dataframe\">\n  <thead>\n    <tr style=\"text-align: right;\">\n      <th></th>\n      <th>symboling</th>\n      <th>normalized-losses</th>\n      <th>make</th>\n      <th>fuel-type</th>\n      <th>aspiration</th>\n      <th>num-of-doors</th>\n      <th>body-style</th>\n      <th>drive-wheels</th>\n      <th>engine-location</th>\n      <th>wheel-base: continuous</th>\n      <th>...</th>\n      <th>engine-size</th>\n      <th>fuel-system</th>\n      <th>bore</th>\n      <th>stroke</th>\n      <th>compression-ratio</th>\n      <th>horsepower</th>\n      <th>peak-rpm</th>\n      <th>city-mpg</th>\n      <th>highway-mpg</th>\n      <th>price</th>\n    </tr>\n  </thead>\n  <tbody>\n    <tr>\n      <td>0</td>\n      <td>3</td>\n      <td>?</td>\n      <td>alfa-romero</td>\n      <td>gas</td>\n      <td>std</td>\n      <td>two</td>\n      <td>convertible</td>\n      <td>rwd</td>\n      <td>front</td>\n      <td>88.6</td>\n      <td>...</td>\n      <td>130</td>\n      <td>mpfi</td>\n      <td>3.47</td>\n      <td>2.68</td>\n      <td>9.0</td>\n      <td>111</td>\n      <td>5000</td>\n      <td>21</td>\n      <td>27</td>\n      <td>13495</td>\n    </tr>\n    <tr>\n      <td>1</td>\n      <td>3</td>\n      <td>?</td>\n      <td>alfa-romero</td>\n      <td>gas</td>\n      <td>std</td>\n      <td>two</td>\n      <td>convertible</td>\n      <td>rwd</td>\n      <td>front</td>\n      <td>88.6</td>\n      <td>...</td>\n      <td>130</td>\n      <td>mpfi</td>\n      <td>3.47</td>\n      <td>2.68</td>\n      <td>9.0</td>\n      <td>111</td>\n      <td>5000</td>\n      <td>21</td>\n      <td>27</td>\n      <td>16500</td>\n    </tr>\n    <tr>\n      <td>2</td>\n      <td>1</td>\n      <td>?</td>\n      <td>alfa-romero</td>\n      <td>gas</td>\n      <td>std</td>\n      <td>two</td>\n      <td>hatchback</td>\n      <td>rwd</td>\n      <td>front</td>\n      <td>94.5</td>\n      <td>...</td>\n      <td>152</td>\n      <td>mpfi</td>\n      <td>2.68</td>\n      <td>3.47</td>\n      <td>9.0</td>\n      <td>154</td>\n      <td>5000</td>\n      <td>19</td>\n      <td>26</td>\n      <td>16500</td>\n    </tr>\n    <tr>\n      <td>3</td>\n      <td>2</td>\n      <td>164</td>\n      <td>audi</td>\n      <td>gas</td>\n      <td>std</td>\n      <td>four</td>\n      <td>sedan</td>\n      <td>fwd</td>\n      <td>front</td>\n      <td>99.8</td>\n      <td>...</td>\n      <td>109</td>\n      <td>mpfi</td>\n      <td>3.19</td>\n      <td>3.40</td>\n      <td>10.0</td>\n      <td>102</td>\n      <td>5500</td>\n      <td>24</td>\n      <td>30</td>\n      <td>13950</td>\n    </tr>\n    <tr>\n      <td>4</td>\n      <td>2</td>\n      <td>164</td>\n      <td>audi</td>\n      <td>gas</td>\n      <td>std</td>\n      <td>four</td>\n      <td>sedan</td>\n      <td>4wd</td>\n      <td>front</td>\n      <td>99.4</td>\n      <td>...</td>\n      <td>136</td>\n      <td>mpfi</td>\n      <td>3.19</td>\n      <td>3.40</td>\n      <td>8.0</td>\n      <td>115</td>\n      <td>5500</td>\n      <td>18</td>\n      <td>22</td>\n      <td>17450</td>\n    </tr>\n  </tbody>\n</table>\n<p>5 rows × 26 columns</p>\n</div>"
     },
     "metadata": {},
     "execution_count": 218
    }
   ],
   "source": [
    "# adding headers to our file\n",
    "headers = [\"symboling\", \"normalized-losses\", \"make\", \"fuel-type\",\"aspiration\",\"num-of-doors\", \"body-style\", \"drive-wheels\", \"engine-location\", \"wheel-base: continuous\",\"length\" ,\"width\", \"height\", \"curb-weight\", \"engine-type\", \"num-of-cylinders\",\"engine-size\", \"fuel-system\", \"bore\", \"stroke\", \"compression-ratio\",\"horsepower\", \"peak-rpm\", \"city-mpg\",\"highway-mpg\", \"price\"]\n",
    "\n",
    "df.columns = headers\n",
    "\n",
    "df.head(5)"
   ]
  },
  {
   "cell_type": "code",
   "execution_count": 219,
   "metadata": {},
   "outputs": [],
   "source": [
    "# exporting pandas data frame to csv\n",
    "\n",
    "path =  \"/Users/vaibhavigaekwad/Documents/GitHub/Data-Analysis-with-Python-By-IBM/automobile.csv\"\n",
    "df.to_csv(path)"
   ]
  },
  {
   "cell_type": "code",
   "execution_count": 24,
   "metadata": {},
   "outputs": [
    {
     "output_type": "execute_result",
     "data": {
      "text/plain": "symboling                   int64\nnormalized-losses          object\nmake                       object\nfuel-type                  object\naspiration                 object\nnum-of-doors               object\nbody-style                 object\ndrive-wheels               object\nengine-location            object\nwheel-base: continuous    float64\nlength                    float64\nwidth                     float64\nheight                    float64\ncurb-weight                 int64\nengine-type                object\nnum-of-cylinders           object\nengine-size                 int64\nfuel-system                object\nbore                       object\nstroke                     object\ncompression-ratio         float64\nhorsepower                 object\npeak-rpm                   object\ncity-mpg                    int64\nhighway-mpg                 int64\nprice                      object\ndtype: object"
     },
     "metadata": {},
     "execution_count": 24
    }
   ],
   "source": [
    "# pandas libraries used to get an overview of the dataset\n",
    "\n",
    "#firstly check data types\n",
    "df.dtypes\n",
    ""
   ]
  },
  {
   "cell_type": "code",
   "execution_count": 220,
   "metadata": {},
   "outputs": [
    {
     "output_type": "execute_result",
     "data": {
      "text/plain": "        symboling  wheel-base: continuous      length       width      height  \\\ncount  205.000000              205.000000  205.000000  205.000000  205.000000   \nmean     0.834146               98.756585  174.049268   65.907805   53.724878   \nstd      1.245307                6.021776   12.337289    2.145204    2.443522   \nmin     -2.000000               86.600000  141.100000   60.300000   47.800000   \n25%      0.000000               94.500000  166.300000   64.100000   52.000000   \n50%      1.000000               97.000000  173.200000   65.500000   54.100000   \n75%      2.000000              102.400000  183.100000   66.900000   55.500000   \nmax      3.000000              120.900000  208.100000   72.300000   59.800000   \n\n       curb-weight  engine-size  compression-ratio    city-mpg  highway-mpg  \ncount   205.000000   205.000000         205.000000  205.000000   205.000000  \nmean   2555.565854   126.907317          10.142537   25.219512    30.751220  \nstd     520.680204    41.642693           3.972040    6.542142     6.886443  \nmin    1488.000000    61.000000           7.000000   13.000000    16.000000  \n25%    2145.000000    97.000000           8.600000   19.000000    25.000000  \n50%    2414.000000   120.000000           9.000000   24.000000    30.000000  \n75%    2935.000000   141.000000           9.400000   30.000000    34.000000  \nmax    4066.000000   326.000000          23.000000   49.000000    54.000000  ",
      "text/html": "<div>\n<style scoped>\n    .dataframe tbody tr th:only-of-type {\n        vertical-align: middle;\n    }\n\n    .dataframe tbody tr th {\n        vertical-align: top;\n    }\n\n    .dataframe thead th {\n        text-align: right;\n    }\n</style>\n<table border=\"1\" class=\"dataframe\">\n  <thead>\n    <tr style=\"text-align: right;\">\n      <th></th>\n      <th>symboling</th>\n      <th>wheel-base: continuous</th>\n      <th>length</th>\n      <th>width</th>\n      <th>height</th>\n      <th>curb-weight</th>\n      <th>engine-size</th>\n      <th>compression-ratio</th>\n      <th>city-mpg</th>\n      <th>highway-mpg</th>\n    </tr>\n  </thead>\n  <tbody>\n    <tr>\n      <td>count</td>\n      <td>205.000000</td>\n      <td>205.000000</td>\n      <td>205.000000</td>\n      <td>205.000000</td>\n      <td>205.000000</td>\n      <td>205.000000</td>\n      <td>205.000000</td>\n      <td>205.000000</td>\n      <td>205.000000</td>\n      <td>205.000000</td>\n    </tr>\n    <tr>\n      <td>mean</td>\n      <td>0.834146</td>\n      <td>98.756585</td>\n      <td>174.049268</td>\n      <td>65.907805</td>\n      <td>53.724878</td>\n      <td>2555.565854</td>\n      <td>126.907317</td>\n      <td>10.142537</td>\n      <td>25.219512</td>\n      <td>30.751220</td>\n    </tr>\n    <tr>\n      <td>std</td>\n      <td>1.245307</td>\n      <td>6.021776</td>\n      <td>12.337289</td>\n      <td>2.145204</td>\n      <td>2.443522</td>\n      <td>520.680204</td>\n      <td>41.642693</td>\n      <td>3.972040</td>\n      <td>6.542142</td>\n      <td>6.886443</td>\n    </tr>\n    <tr>\n      <td>min</td>\n      <td>-2.000000</td>\n      <td>86.600000</td>\n      <td>141.100000</td>\n      <td>60.300000</td>\n      <td>47.800000</td>\n      <td>1488.000000</td>\n      <td>61.000000</td>\n      <td>7.000000</td>\n      <td>13.000000</td>\n      <td>16.000000</td>\n    </tr>\n    <tr>\n      <td>25%</td>\n      <td>0.000000</td>\n      <td>94.500000</td>\n      <td>166.300000</td>\n      <td>64.100000</td>\n      <td>52.000000</td>\n      <td>2145.000000</td>\n      <td>97.000000</td>\n      <td>8.600000</td>\n      <td>19.000000</td>\n      <td>25.000000</td>\n    </tr>\n    <tr>\n      <td>50%</td>\n      <td>1.000000</td>\n      <td>97.000000</td>\n      <td>173.200000</td>\n      <td>65.500000</td>\n      <td>54.100000</td>\n      <td>2414.000000</td>\n      <td>120.000000</td>\n      <td>9.000000</td>\n      <td>24.000000</td>\n      <td>30.000000</td>\n    </tr>\n    <tr>\n      <td>75%</td>\n      <td>2.000000</td>\n      <td>102.400000</td>\n      <td>183.100000</td>\n      <td>66.900000</td>\n      <td>55.500000</td>\n      <td>2935.000000</td>\n      <td>141.000000</td>\n      <td>9.400000</td>\n      <td>30.000000</td>\n      <td>34.000000</td>\n    </tr>\n    <tr>\n      <td>max</td>\n      <td>3.000000</td>\n      <td>120.900000</td>\n      <td>208.100000</td>\n      <td>72.300000</td>\n      <td>59.800000</td>\n      <td>4066.000000</td>\n      <td>326.000000</td>\n      <td>23.000000</td>\n      <td>49.000000</td>\n      <td>54.000000</td>\n    </tr>\n  </tbody>\n</table>\n</div>"
     },
     "metadata": {},
     "execution_count": 220
    }
   ],
   "source": [
    "# statistical summary for to learn distribution of data in each column / check outliers\n",
    "df.describe()"
   ]
  },
  {
   "cell_type": "code",
   "execution_count": 221,
   "metadata": {},
   "outputs": [
    {
     "output_type": "execute_result",
     "data": {
      "text/plain": "         symboling normalized-losses    make fuel-type aspiration  \\\ncount   205.000000               205     205       205        205   \nunique         NaN                52      22         2          2   \ntop            NaN                 ?  toyota       gas        std   \nfreq           NaN                41      32       185        168   \nmean      0.834146               NaN     NaN       NaN        NaN   \nstd       1.245307               NaN     NaN       NaN        NaN   \nmin      -2.000000               NaN     NaN       NaN        NaN   \n25%       0.000000               NaN     NaN       NaN        NaN   \n50%       1.000000               NaN     NaN       NaN        NaN   \n75%       2.000000               NaN     NaN       NaN        NaN   \nmax       3.000000               NaN     NaN       NaN        NaN   \n\n       num-of-doors body-style drive-wheels engine-location  \\\ncount           205        205          205             205   \nunique            3          5            3               2   \ntop            four      sedan          fwd           front   \nfreq            114         96          120             202   \nmean            NaN        NaN          NaN             NaN   \nstd             NaN        NaN          NaN             NaN   \nmin             NaN        NaN          NaN             NaN   \n25%             NaN        NaN          NaN             NaN   \n50%             NaN        NaN          NaN             NaN   \n75%             NaN        NaN          NaN             NaN   \nmax             NaN        NaN          NaN             NaN   \n\n        wheel-base: continuous  ...  engine-size  fuel-system  bore  stroke  \\\ncount               205.000000  ...   205.000000          205   205     205   \nunique                     NaN  ...          NaN            8    39      37   \ntop                        NaN  ...          NaN         mpfi  3.62    3.40   \nfreq                       NaN  ...          NaN           94    23      20   \nmean                 98.756585  ...   126.907317          NaN   NaN     NaN   \nstd                   6.021776  ...    41.642693          NaN   NaN     NaN   \nmin                  86.600000  ...    61.000000          NaN   NaN     NaN   \n25%                  94.500000  ...    97.000000          NaN   NaN     NaN   \n50%                  97.000000  ...   120.000000          NaN   NaN     NaN   \n75%                 102.400000  ...   141.000000          NaN   NaN     NaN   \nmax                 120.900000  ...   326.000000          NaN   NaN     NaN   \n\n       compression-ratio horsepower  peak-rpm    city-mpg highway-mpg price  \ncount         205.000000        205       205  205.000000  205.000000   205  \nunique               NaN         60        24         NaN         NaN   187  \ntop                  NaN         68      5500         NaN         NaN     ?  \nfreq                 NaN         19        37         NaN         NaN     4  \nmean           10.142537        NaN       NaN   25.219512   30.751220   NaN  \nstd             3.972040        NaN       NaN    6.542142    6.886443   NaN  \nmin             7.000000        NaN       NaN   13.000000   16.000000   NaN  \n25%             8.600000        NaN       NaN   19.000000   25.000000   NaN  \n50%             9.000000        NaN       NaN   24.000000   30.000000   NaN  \n75%             9.400000        NaN       NaN   30.000000   34.000000   NaN  \nmax            23.000000        NaN       NaN   49.000000   54.000000   NaN  \n\n[11 rows x 26 columns]",
      "text/html": "<div>\n<style scoped>\n    .dataframe tbody tr th:only-of-type {\n        vertical-align: middle;\n    }\n\n    .dataframe tbody tr th {\n        vertical-align: top;\n    }\n\n    .dataframe thead th {\n        text-align: right;\n    }\n</style>\n<table border=\"1\" class=\"dataframe\">\n  <thead>\n    <tr style=\"text-align: right;\">\n      <th></th>\n      <th>symboling</th>\n      <th>normalized-losses</th>\n      <th>make</th>\n      <th>fuel-type</th>\n      <th>aspiration</th>\n      <th>num-of-doors</th>\n      <th>body-style</th>\n      <th>drive-wheels</th>\n      <th>engine-location</th>\n      <th>wheel-base: continuous</th>\n      <th>...</th>\n      <th>engine-size</th>\n      <th>fuel-system</th>\n      <th>bore</th>\n      <th>stroke</th>\n      <th>compression-ratio</th>\n      <th>horsepower</th>\n      <th>peak-rpm</th>\n      <th>city-mpg</th>\n      <th>highway-mpg</th>\n      <th>price</th>\n    </tr>\n  </thead>\n  <tbody>\n    <tr>\n      <td>count</td>\n      <td>205.000000</td>\n      <td>205</td>\n      <td>205</td>\n      <td>205</td>\n      <td>205</td>\n      <td>205</td>\n      <td>205</td>\n      <td>205</td>\n      <td>205</td>\n      <td>205.000000</td>\n      <td>...</td>\n      <td>205.000000</td>\n      <td>205</td>\n      <td>205</td>\n      <td>205</td>\n      <td>205.000000</td>\n      <td>205</td>\n      <td>205</td>\n      <td>205.000000</td>\n      <td>205.000000</td>\n      <td>205</td>\n    </tr>\n    <tr>\n      <td>unique</td>\n      <td>NaN</td>\n      <td>52</td>\n      <td>22</td>\n      <td>2</td>\n      <td>2</td>\n      <td>3</td>\n      <td>5</td>\n      <td>3</td>\n      <td>2</td>\n      <td>NaN</td>\n      <td>...</td>\n      <td>NaN</td>\n      <td>8</td>\n      <td>39</td>\n      <td>37</td>\n      <td>NaN</td>\n      <td>60</td>\n      <td>24</td>\n      <td>NaN</td>\n      <td>NaN</td>\n      <td>187</td>\n    </tr>\n    <tr>\n      <td>top</td>\n      <td>NaN</td>\n      <td>?</td>\n      <td>toyota</td>\n      <td>gas</td>\n      <td>std</td>\n      <td>four</td>\n      <td>sedan</td>\n      <td>fwd</td>\n      <td>front</td>\n      <td>NaN</td>\n      <td>...</td>\n      <td>NaN</td>\n      <td>mpfi</td>\n      <td>3.62</td>\n      <td>3.40</td>\n      <td>NaN</td>\n      <td>68</td>\n      <td>5500</td>\n      <td>NaN</td>\n      <td>NaN</td>\n      <td>?</td>\n    </tr>\n    <tr>\n      <td>freq</td>\n      <td>NaN</td>\n      <td>41</td>\n      <td>32</td>\n      <td>185</td>\n      <td>168</td>\n      <td>114</td>\n      <td>96</td>\n      <td>120</td>\n      <td>202</td>\n      <td>NaN</td>\n      <td>...</td>\n      <td>NaN</td>\n      <td>94</td>\n      <td>23</td>\n      <td>20</td>\n      <td>NaN</td>\n      <td>19</td>\n      <td>37</td>\n      <td>NaN</td>\n      <td>NaN</td>\n      <td>4</td>\n    </tr>\n    <tr>\n      <td>mean</td>\n      <td>0.834146</td>\n      <td>NaN</td>\n      <td>NaN</td>\n      <td>NaN</td>\n      <td>NaN</td>\n      <td>NaN</td>\n      <td>NaN</td>\n      <td>NaN</td>\n      <td>NaN</td>\n      <td>98.756585</td>\n      <td>...</td>\n      <td>126.907317</td>\n      <td>NaN</td>\n      <td>NaN</td>\n      <td>NaN</td>\n      <td>10.142537</td>\n      <td>NaN</td>\n      <td>NaN</td>\n      <td>25.219512</td>\n      <td>30.751220</td>\n      <td>NaN</td>\n    </tr>\n    <tr>\n      <td>std</td>\n      <td>1.245307</td>\n      <td>NaN</td>\n      <td>NaN</td>\n      <td>NaN</td>\n      <td>NaN</td>\n      <td>NaN</td>\n      <td>NaN</td>\n      <td>NaN</td>\n      <td>NaN</td>\n      <td>6.021776</td>\n      <td>...</td>\n      <td>41.642693</td>\n      <td>NaN</td>\n      <td>NaN</td>\n      <td>NaN</td>\n      <td>3.972040</td>\n      <td>NaN</td>\n      <td>NaN</td>\n      <td>6.542142</td>\n      <td>6.886443</td>\n      <td>NaN</td>\n    </tr>\n    <tr>\n      <td>min</td>\n      <td>-2.000000</td>\n      <td>NaN</td>\n      <td>NaN</td>\n      <td>NaN</td>\n      <td>NaN</td>\n      <td>NaN</td>\n      <td>NaN</td>\n      <td>NaN</td>\n      <td>NaN</td>\n      <td>86.600000</td>\n      <td>...</td>\n      <td>61.000000</td>\n      <td>NaN</td>\n      <td>NaN</td>\n      <td>NaN</td>\n      <td>7.000000</td>\n      <td>NaN</td>\n      <td>NaN</td>\n      <td>13.000000</td>\n      <td>16.000000</td>\n      <td>NaN</td>\n    </tr>\n    <tr>\n      <td>25%</td>\n      <td>0.000000</td>\n      <td>NaN</td>\n      <td>NaN</td>\n      <td>NaN</td>\n      <td>NaN</td>\n      <td>NaN</td>\n      <td>NaN</td>\n      <td>NaN</td>\n      <td>NaN</td>\n      <td>94.500000</td>\n      <td>...</td>\n      <td>97.000000</td>\n      <td>NaN</td>\n      <td>NaN</td>\n      <td>NaN</td>\n      <td>8.600000</td>\n      <td>NaN</td>\n      <td>NaN</td>\n      <td>19.000000</td>\n      <td>25.000000</td>\n      <td>NaN</td>\n    </tr>\n    <tr>\n      <td>50%</td>\n      <td>1.000000</td>\n      <td>NaN</td>\n      <td>NaN</td>\n      <td>NaN</td>\n      <td>NaN</td>\n      <td>NaN</td>\n      <td>NaN</td>\n      <td>NaN</td>\n      <td>NaN</td>\n      <td>97.000000</td>\n      <td>...</td>\n      <td>120.000000</td>\n      <td>NaN</td>\n      <td>NaN</td>\n      <td>NaN</td>\n      <td>9.000000</td>\n      <td>NaN</td>\n      <td>NaN</td>\n      <td>24.000000</td>\n      <td>30.000000</td>\n      <td>NaN</td>\n    </tr>\n    <tr>\n      <td>75%</td>\n      <td>2.000000</td>\n      <td>NaN</td>\n      <td>NaN</td>\n      <td>NaN</td>\n      <td>NaN</td>\n      <td>NaN</td>\n      <td>NaN</td>\n      <td>NaN</td>\n      <td>NaN</td>\n      <td>102.400000</td>\n      <td>...</td>\n      <td>141.000000</td>\n      <td>NaN</td>\n      <td>NaN</td>\n      <td>NaN</td>\n      <td>9.400000</td>\n      <td>NaN</td>\n      <td>NaN</td>\n      <td>30.000000</td>\n      <td>34.000000</td>\n      <td>NaN</td>\n    </tr>\n    <tr>\n      <td>max</td>\n      <td>3.000000</td>\n      <td>NaN</td>\n      <td>NaN</td>\n      <td>NaN</td>\n      <td>NaN</td>\n      <td>NaN</td>\n      <td>NaN</td>\n      <td>NaN</td>\n      <td>NaN</td>\n      <td>120.900000</td>\n      <td>...</td>\n      <td>326.000000</td>\n      <td>NaN</td>\n      <td>NaN</td>\n      <td>NaN</td>\n      <td>23.000000</td>\n      <td>NaN</td>\n      <td>NaN</td>\n      <td>49.000000</td>\n      <td>54.000000</td>\n      <td>NaN</td>\n    </tr>\n  </tbody>\n</table>\n<p>11 rows × 26 columns</p>\n</div>"
     },
     "metadata": {},
     "execution_count": 221
    }
   ],
   "source": [
    "#all columns with all data types are described\n",
    "df.describe(include=\"all\")"
   ]
  },
  {
   "cell_type": "code",
   "execution_count": 200,
   "metadata": {},
   "outputs": [
    {
     "output_type": "execute_result",
     "data": {
      "text/plain": "     symboling normalized-losses         make fuel-type aspiration  \\\n0            3                 ?  alfa-romero       gas        std   \n1            3                 ?  alfa-romero       gas        std   \n2            1                 ?  alfa-romero       gas        std   \n3            2               164         audi       gas        std   \n4            2               164         audi       gas        std   \n..         ...               ...          ...       ...        ...   \n200         -1                95        volvo       gas        std   \n201         -1                95        volvo       gas      turbo   \n202         -1                95        volvo       gas        std   \n203         -1                95        volvo    diesel      turbo   \n204         -1                95        volvo       gas      turbo   \n\n    num-of-doors   body-style drive-wheels engine-location  \\\n0            two  convertible          rwd           front   \n1            two  convertible          rwd           front   \n2            two    hatchback          rwd           front   \n3           four        sedan          fwd           front   \n4           four        sedan          4wd           front   \n..           ...          ...          ...             ...   \n200         four        sedan          rwd           front   \n201         four        sedan          rwd           front   \n202         four        sedan          rwd           front   \n203         four        sedan          rwd           front   \n204         four        sedan          rwd           front   \n\n     wheel-base: continuous  ...  engine-size  fuel-system  bore  stroke  \\\n0                      88.6  ...          130         mpfi  3.47    2.68   \n1                      88.6  ...          130         mpfi  3.47    2.68   \n2                      94.5  ...          152         mpfi  2.68    3.47   \n3                      99.8  ...          109         mpfi  3.19    3.40   \n4                      99.4  ...          136         mpfi  3.19    3.40   \n..                      ...  ...          ...          ...   ...     ...   \n200                   109.1  ...          141         mpfi  3.78    3.15   \n201                   109.1  ...          141         mpfi  3.78    3.15   \n202                   109.1  ...          173         mpfi  3.58    2.87   \n203                   109.1  ...          145          idi  3.01    3.40   \n204                   109.1  ...          141         mpfi  3.78    3.15   \n\n    compression-ratio horsepower  peak-rpm city-mpg highway-mpg  price  \n0                 9.0        111      5000       21          27  13495  \n1                 9.0        111      5000       21          27  16500  \n2                 9.0        154      5000       19          26  16500  \n3                10.0        102      5500       24          30  13950  \n4                 8.0        115      5500       18          22  17450  \n..                ...        ...       ...      ...         ...    ...  \n200               9.5        114      5400       23          28  16845  \n201               8.7        160      5300       19          25  19045  \n202               8.8        134      5500       18          23  21485  \n203              23.0        106      4800       26          27  22470  \n204               9.5        114      5400       19          25  22625  \n\n[201 rows x 26 columns]",
      "text/html": "<div>\n<style scoped>\n    .dataframe tbody tr th:only-of-type {\n        vertical-align: middle;\n    }\n\n    .dataframe tbody tr th {\n        vertical-align: top;\n    }\n\n    .dataframe thead th {\n        text-align: right;\n    }\n</style>\n<table border=\"1\" class=\"dataframe\">\n  <thead>\n    <tr style=\"text-align: right;\">\n      <th></th>\n      <th>symboling</th>\n      <th>normalized-losses</th>\n      <th>make</th>\n      <th>fuel-type</th>\n      <th>aspiration</th>\n      <th>num-of-doors</th>\n      <th>body-style</th>\n      <th>drive-wheels</th>\n      <th>engine-location</th>\n      <th>wheel-base: continuous</th>\n      <th>...</th>\n      <th>engine-size</th>\n      <th>fuel-system</th>\n      <th>bore</th>\n      <th>stroke</th>\n      <th>compression-ratio</th>\n      <th>horsepower</th>\n      <th>peak-rpm</th>\n      <th>city-mpg</th>\n      <th>highway-mpg</th>\n      <th>price</th>\n    </tr>\n  </thead>\n  <tbody>\n    <tr>\n      <td>0</td>\n      <td>3</td>\n      <td>?</td>\n      <td>alfa-romero</td>\n      <td>gas</td>\n      <td>std</td>\n      <td>two</td>\n      <td>convertible</td>\n      <td>rwd</td>\n      <td>front</td>\n      <td>88.6</td>\n      <td>...</td>\n      <td>130</td>\n      <td>mpfi</td>\n      <td>3.47</td>\n      <td>2.68</td>\n      <td>9.0</td>\n      <td>111</td>\n      <td>5000</td>\n      <td>21</td>\n      <td>27</td>\n      <td>13495</td>\n    </tr>\n    <tr>\n      <td>1</td>\n      <td>3</td>\n      <td>?</td>\n      <td>alfa-romero</td>\n      <td>gas</td>\n      <td>std</td>\n      <td>two</td>\n      <td>convertible</td>\n      <td>rwd</td>\n      <td>front</td>\n      <td>88.6</td>\n      <td>...</td>\n      <td>130</td>\n      <td>mpfi</td>\n      <td>3.47</td>\n      <td>2.68</td>\n      <td>9.0</td>\n      <td>111</td>\n      <td>5000</td>\n      <td>21</td>\n      <td>27</td>\n      <td>16500</td>\n    </tr>\n    <tr>\n      <td>2</td>\n      <td>1</td>\n      <td>?</td>\n      <td>alfa-romero</td>\n      <td>gas</td>\n      <td>std</td>\n      <td>two</td>\n      <td>hatchback</td>\n      <td>rwd</td>\n      <td>front</td>\n      <td>94.5</td>\n      <td>...</td>\n      <td>152</td>\n      <td>mpfi</td>\n      <td>2.68</td>\n      <td>3.47</td>\n      <td>9.0</td>\n      <td>154</td>\n      <td>5000</td>\n      <td>19</td>\n      <td>26</td>\n      <td>16500</td>\n    </tr>\n    <tr>\n      <td>3</td>\n      <td>2</td>\n      <td>164</td>\n      <td>audi</td>\n      <td>gas</td>\n      <td>std</td>\n      <td>four</td>\n      <td>sedan</td>\n      <td>fwd</td>\n      <td>front</td>\n      <td>99.8</td>\n      <td>...</td>\n      <td>109</td>\n      <td>mpfi</td>\n      <td>3.19</td>\n      <td>3.40</td>\n      <td>10.0</td>\n      <td>102</td>\n      <td>5500</td>\n      <td>24</td>\n      <td>30</td>\n      <td>13950</td>\n    </tr>\n    <tr>\n      <td>4</td>\n      <td>2</td>\n      <td>164</td>\n      <td>audi</td>\n      <td>gas</td>\n      <td>std</td>\n      <td>four</td>\n      <td>sedan</td>\n      <td>4wd</td>\n      <td>front</td>\n      <td>99.4</td>\n      <td>...</td>\n      <td>136</td>\n      <td>mpfi</td>\n      <td>3.19</td>\n      <td>3.40</td>\n      <td>8.0</td>\n      <td>115</td>\n      <td>5500</td>\n      <td>18</td>\n      <td>22</td>\n      <td>17450</td>\n    </tr>\n    <tr>\n      <td>...</td>\n      <td>...</td>\n      <td>...</td>\n      <td>...</td>\n      <td>...</td>\n      <td>...</td>\n      <td>...</td>\n      <td>...</td>\n      <td>...</td>\n      <td>...</td>\n      <td>...</td>\n      <td>...</td>\n      <td>...</td>\n      <td>...</td>\n      <td>...</td>\n      <td>...</td>\n      <td>...</td>\n      <td>...</td>\n      <td>...</td>\n      <td>...</td>\n      <td>...</td>\n      <td>...</td>\n    </tr>\n    <tr>\n      <td>200</td>\n      <td>-1</td>\n      <td>95</td>\n      <td>volvo</td>\n      <td>gas</td>\n      <td>std</td>\n      <td>four</td>\n      <td>sedan</td>\n      <td>rwd</td>\n      <td>front</td>\n      <td>109.1</td>\n      <td>...</td>\n      <td>141</td>\n      <td>mpfi</td>\n      <td>3.78</td>\n      <td>3.15</td>\n      <td>9.5</td>\n      <td>114</td>\n      <td>5400</td>\n      <td>23</td>\n      <td>28</td>\n      <td>16845</td>\n    </tr>\n    <tr>\n      <td>201</td>\n      <td>-1</td>\n      <td>95</td>\n      <td>volvo</td>\n      <td>gas</td>\n      <td>turbo</td>\n      <td>four</td>\n      <td>sedan</td>\n      <td>rwd</td>\n      <td>front</td>\n      <td>109.1</td>\n      <td>...</td>\n      <td>141</td>\n      <td>mpfi</td>\n      <td>3.78</td>\n      <td>3.15</td>\n      <td>8.7</td>\n      <td>160</td>\n      <td>5300</td>\n      <td>19</td>\n      <td>25</td>\n      <td>19045</td>\n    </tr>\n    <tr>\n      <td>202</td>\n      <td>-1</td>\n      <td>95</td>\n      <td>volvo</td>\n      <td>gas</td>\n      <td>std</td>\n      <td>four</td>\n      <td>sedan</td>\n      <td>rwd</td>\n      <td>front</td>\n      <td>109.1</td>\n      <td>...</td>\n      <td>173</td>\n      <td>mpfi</td>\n      <td>3.58</td>\n      <td>2.87</td>\n      <td>8.8</td>\n      <td>134</td>\n      <td>5500</td>\n      <td>18</td>\n      <td>23</td>\n      <td>21485</td>\n    </tr>\n    <tr>\n      <td>203</td>\n      <td>-1</td>\n      <td>95</td>\n      <td>volvo</td>\n      <td>diesel</td>\n      <td>turbo</td>\n      <td>four</td>\n      <td>sedan</td>\n      <td>rwd</td>\n      <td>front</td>\n      <td>109.1</td>\n      <td>...</td>\n      <td>145</td>\n      <td>idi</td>\n      <td>3.01</td>\n      <td>3.40</td>\n      <td>23.0</td>\n      <td>106</td>\n      <td>4800</td>\n      <td>26</td>\n      <td>27</td>\n      <td>22470</td>\n    </tr>\n    <tr>\n      <td>204</td>\n      <td>-1</td>\n      <td>95</td>\n      <td>volvo</td>\n      <td>gas</td>\n      <td>turbo</td>\n      <td>four</td>\n      <td>sedan</td>\n      <td>rwd</td>\n      <td>front</td>\n      <td>109.1</td>\n      <td>...</td>\n      <td>141</td>\n      <td>mpfi</td>\n      <td>3.78</td>\n      <td>3.15</td>\n      <td>9.5</td>\n      <td>114</td>\n      <td>5400</td>\n      <td>19</td>\n      <td>25</td>\n      <td>22625</td>\n    </tr>\n  </tbody>\n</table>\n<p>201 rows × 26 columns</p>\n</div>"
     },
     "metadata": {},
     "execution_count": 200
    }
   ],
   "source": [
    "# drop rows with NaN values in \"price\" column\n",
    "df.dropna(subset=['price'], axis=0, inplace = True)\n",
    "df[df.price != '?']"
   ]
  },
  {
   "cell_type": "code",
   "execution_count": 222,
   "metadata": {},
   "outputs": [],
   "source": [
    "# convert unit of column \"city-mpg\"\n",
    "df[\"city-mpg\"] = 235/df[\"city-mpg\"]\n",
    "df.rename(columns= {\"city_mpg\": \"city-L/100km\"}, inplace= True)"
   ]
  },
  {
   "cell_type": "code",
   "execution_count": 223,
   "metadata": {},
   "outputs": [
    {
     "output_type": "error",
     "ename": "ValueError",
     "evalue": "could not convert string to float: '?'",
     "traceback": [
      "\u001b[0;31m---------------------------------------------------------------------------\u001b[0m",
      "\u001b[0;31mValueError\u001b[0m                                Traceback (most recent call last)",
      "\u001b[0;32m<ipython-input-223-f43231fd95cc>\u001b[0m in \u001b[0;36m<module>\u001b[0;34m\u001b[0m\n\u001b[1;32m      3\u001b[0m \u001b[0;31m#df = df.astype({\"price\": int},  errors='ignore')\u001b[0m\u001b[0;34m\u001b[0m\u001b[0;34m\u001b[0m\u001b[0;34m\u001b[0m\u001b[0m\n\u001b[1;32m      4\u001b[0m \u001b[0;31m#float(df['price'])\u001b[0m\u001b[0;34m\u001b[0m\u001b[0;34m\u001b[0m\u001b[0;34m\u001b[0m\u001b[0m\n\u001b[0;32m----> 5\u001b[0;31m \u001b[0mbins\u001b[0m \u001b[0;34m=\u001b[0m \u001b[0mnp\u001b[0m\u001b[0;34m.\u001b[0m\u001b[0mlinspace\u001b[0m\u001b[0;34m(\u001b[0m\u001b[0mfloat\u001b[0m\u001b[0;34m(\u001b[0m\u001b[0mmin\u001b[0m\u001b[0;34m(\u001b[0m\u001b[0mdf\u001b[0m\u001b[0;34m[\u001b[0m\u001b[0;34m'price'\u001b[0m\u001b[0;34m]\u001b[0m\u001b[0;34m)\u001b[0m\u001b[0;34m)\u001b[0m\u001b[0;34m,\u001b[0m \u001b[0mfloat\u001b[0m\u001b[0;34m(\u001b[0m\u001b[0mmax\u001b[0m\u001b[0;34m(\u001b[0m\u001b[0mdf\u001b[0m\u001b[0;34m[\u001b[0m\u001b[0;34m'price'\u001b[0m\u001b[0;34m]\u001b[0m\u001b[0;34m)\u001b[0m\u001b[0;34m)\u001b[0m\u001b[0;34m,\u001b[0m\u001b[0;36m4\u001b[0m\u001b[0;34m)\u001b[0m\u001b[0;34m\u001b[0m\u001b[0;34m\u001b[0m\u001b[0m\n\u001b[0m\u001b[1;32m      6\u001b[0m \u001b[0mgroup_names\u001b[0m \u001b[0;34m=\u001b[0m \u001b[0;34m[\u001b[0m\u001b[0;34m\"Low\"\u001b[0m\u001b[0;34m,\u001b[0m \u001b[0;34m\"Medium\"\u001b[0m\u001b[0;34m,\u001b[0m \u001b[0;34m\"High\"\u001b[0m\u001b[0;34m]\u001b[0m\u001b[0;34m\u001b[0m\u001b[0;34m\u001b[0m\u001b[0m\n\u001b[1;32m      7\u001b[0m \u001b[0mdf\u001b[0m\u001b[0;34m[\u001b[0m\u001b[0;34m\"price-binned\"\u001b[0m\u001b[0;34m]\u001b[0m \u001b[0;34m=\u001b[0m \u001b[0mpd\u001b[0m\u001b[0;34m.\u001b[0m\u001b[0mcut\u001b[0m\u001b[0;34m(\u001b[0m\u001b[0mdf\u001b[0m\u001b[0;34m[\u001b[0m\u001b[0;34m\"price\"\u001b[0m\u001b[0;34m]\u001b[0m\u001b[0;34m,\u001b[0m \u001b[0mbins\u001b[0m\u001b[0;34m,\u001b[0m \u001b[0mlabels\u001b[0m\u001b[0;34m=\u001b[0m\u001b[0mgroup_names\u001b[0m\u001b[0;34m,\u001b[0m \u001b[0minclude_lowest\u001b[0m \u001b[0;34m=\u001b[0m \u001b[0;32mTrue\u001b[0m\u001b[0;34m)\u001b[0m\u001b[0;34m\u001b[0m\u001b[0;34m\u001b[0m\u001b[0m\n",
      "\u001b[0;31mValueError\u001b[0m: could not convert string to float: '?'"
     ]
    }
   ],
   "source": [
    "#binning the column \"price\"\n",
    "#df['price'] = pd.to_numeric(df['price'])\n",
    "#df = df.astype({\"price\": int},  errors='ignore')\n",
    "#float(df['price'])\n",
    "bins = np.linspace(float(min(df['price'])), float(max(df['price'])),4)\n",
    "group_names = [\"Low\", \"Medium\", \"High\"]\n",
    "df[\"price-binned\"] = pd.cut(df[\"price\"], bins, labels=group_names, include_lowest = True)"
   ]
  },
  {
   "cell_type": "code",
   "execution_count": 91,
   "metadata": {},
   "outputs": [
    {
     "output_type": "error",
     "ename": "ValueError",
     "evalue": "could not convert string to float: '?'",
     "traceback": [
      "\u001b[0;31m---------------------------------------------------------------------------\u001b[0m",
      "\u001b[0;31mValueError\u001b[0m                                Traceback (most recent call last)",
      "\u001b[0;32m<ipython-input-91-ca4fb1934e3b>\u001b[0m in \u001b[0;36m<module>\u001b[0;34m\u001b[0m\n\u001b[1;32m      1\u001b[0m \u001b[0;31m#binning the column \"price\"\u001b[0m\u001b[0;34m\u001b[0m\u001b[0;34m\u001b[0m\u001b[0;34m\u001b[0m\u001b[0m\n\u001b[0;32m----> 2\u001b[0;31m \u001b[0mbins\u001b[0m \u001b[0;34m=\u001b[0m \u001b[0mnp\u001b[0m\u001b[0;34m.\u001b[0m\u001b[0mlinspace\u001b[0m\u001b[0;34m(\u001b[0m\u001b[0mfloat\u001b[0m\u001b[0;34m(\u001b[0m\u001b[0mmin\u001b[0m\u001b[0;34m(\u001b[0m\u001b[0mdf\u001b[0m\u001b[0;34m[\u001b[0m\u001b[0;34m'price'\u001b[0m\u001b[0;34m]\u001b[0m\u001b[0;34m)\u001b[0m\u001b[0;34m)\u001b[0m\u001b[0;34m,\u001b[0m \u001b[0mfloat\u001b[0m\u001b[0;34m(\u001b[0m\u001b[0mmax\u001b[0m\u001b[0;34m(\u001b[0m\u001b[0mdf\u001b[0m\u001b[0;34m[\u001b[0m\u001b[0;34m'price'\u001b[0m\u001b[0;34m]\u001b[0m\u001b[0;34m)\u001b[0m\u001b[0;34m)\u001b[0m\u001b[0;34m,\u001b[0m\u001b[0;36m4\u001b[0m\u001b[0;34m)\u001b[0m\u001b[0;34m\u001b[0m\u001b[0;34m\u001b[0m\u001b[0m\n\u001b[0m\u001b[1;32m      3\u001b[0m \u001b[0mgroup_names\u001b[0m \u001b[0;34m=\u001b[0m \u001b[0;34m[\u001b[0m\u001b[0;34m\"Low\"\u001b[0m\u001b[0;34m,\u001b[0m \u001b[0;34m\"Medium\"\u001b[0m\u001b[0;34m,\u001b[0m \u001b[0;34m\"High\"\u001b[0m\u001b[0;34m]\u001b[0m\u001b[0;34m\u001b[0m\u001b[0;34m\u001b[0m\u001b[0m\n\u001b[1;32m      4\u001b[0m \u001b[0mdf\u001b[0m\u001b[0;34m[\u001b[0m\u001b[0;34m\"price-binned\"\u001b[0m\u001b[0;34m]\u001b[0m \u001b[0;34m=\u001b[0m \u001b[0mpd\u001b[0m\u001b[0;34m.\u001b[0m\u001b[0mcut\u001b[0m\u001b[0;34m(\u001b[0m\u001b[0mdf\u001b[0m\u001b[0;34m[\u001b[0m\u001b[0;34m\"price\"\u001b[0m\u001b[0;34m]\u001b[0m\u001b[0;34m,\u001b[0m \u001b[0mbins\u001b[0m\u001b[0;34m,\u001b[0m \u001b[0mlabels\u001b[0m\u001b[0;34m=\u001b[0m\u001b[0mgroup_names\u001b[0m\u001b[0;34m,\u001b[0m \u001b[0minclude_lowest\u001b[0m \u001b[0;34m=\u001b[0m \u001b[0;32mTrue\u001b[0m\u001b[0;34m)\u001b[0m\u001b[0;34m\u001b[0m\u001b[0;34m\u001b[0m\u001b[0m\n",
      "\u001b[0;31mValueError\u001b[0m: could not convert string to float: '?'"
     ]
    }
   ],
   "source": [
    "#binning the column \"price\"\n",
    "bins = np.linspace(float(min(df['price'])), float(max(df['price'])),4)\n",
    "group_names = [\"Low\", \"Medium\", \"High\"]\n",
    "df[\"price-binned\"] = pd.cut(df[\"price\"], bins, labels=group_names, include_lowest = True)"
   ]
  },
  {
   "cell_type": "code",
   "execution_count": 226,
   "metadata": {},
   "outputs": [
    {
     "output_type": "error",
     "ename": "KeyError",
     "evalue": "'fuel'",
     "traceback": [
      "\u001b[0;31m---------------------------------------------------------------------------\u001b[0m",
      "\u001b[0;31mKeyError\u001b[0m                                  Traceback (most recent call last)",
      "\u001b[0;32m~/opt/anaconda3/lib/python3.7/site-packages/pandas/core/indexes/base.py\u001b[0m in \u001b[0;36mget_loc\u001b[0;34m(self, key, method, tolerance)\u001b[0m\n\u001b[1;32m   2896\u001b[0m             \u001b[0;32mtry\u001b[0m\u001b[0;34m:\u001b[0m\u001b[0;34m\u001b[0m\u001b[0;34m\u001b[0m\u001b[0m\n\u001b[0;32m-> 2897\u001b[0;31m                 \u001b[0;32mreturn\u001b[0m \u001b[0mself\u001b[0m\u001b[0;34m.\u001b[0m\u001b[0m_engine\u001b[0m\u001b[0;34m.\u001b[0m\u001b[0mget_loc\u001b[0m\u001b[0;34m(\u001b[0m\u001b[0mkey\u001b[0m\u001b[0;34m)\u001b[0m\u001b[0;34m\u001b[0m\u001b[0;34m\u001b[0m\u001b[0m\n\u001b[0m\u001b[1;32m   2898\u001b[0m             \u001b[0;32mexcept\u001b[0m \u001b[0mKeyError\u001b[0m\u001b[0;34m:\u001b[0m\u001b[0;34m\u001b[0m\u001b[0;34m\u001b[0m\u001b[0m\n",
      "\u001b[0;32mpandas/_libs/index.pyx\u001b[0m in \u001b[0;36mpandas._libs.index.IndexEngine.get_loc\u001b[0;34m()\u001b[0m\n",
      "\u001b[0;32mpandas/_libs/index.pyx\u001b[0m in \u001b[0;36mpandas._libs.index.IndexEngine.get_loc\u001b[0;34m()\u001b[0m\n",
      "\u001b[0;32mpandas/_libs/hashtable_class_helper.pxi\u001b[0m in \u001b[0;36mpandas._libs.hashtable.PyObjectHashTable.get_item\u001b[0;34m()\u001b[0m\n",
      "\u001b[0;32mpandas/_libs/hashtable_class_helper.pxi\u001b[0m in \u001b[0;36mpandas._libs.hashtable.PyObjectHashTable.get_item\u001b[0;34m()\u001b[0m\n",
      "\u001b[0;31mKeyError\u001b[0m: 'fuel'",
      "\nDuring handling of the above exception, another exception occurred:\n",
      "\u001b[0;31mKeyError\u001b[0m                                  Traceback (most recent call last)",
      "\u001b[0;32m<ipython-input-226-141799df15d0>\u001b[0m in \u001b[0;36m<module>\u001b[0;34m\u001b[0m\n\u001b[1;32m      1\u001b[0m \u001b[0;31m# encoding for categorical variable - one hot encoding\u001b[0m\u001b[0;34m\u001b[0m\u001b[0;34m\u001b[0m\u001b[0;34m\u001b[0m\u001b[0m\n\u001b[0;32m----> 2\u001b[0;31m \u001b[0mpd\u001b[0m\u001b[0;34m.\u001b[0m\u001b[0mget_dummies\u001b[0m\u001b[0;34m(\u001b[0m\u001b[0mdf\u001b[0m\u001b[0;34m[\u001b[0m\u001b[0;34m'fuel'\u001b[0m\u001b[0;34m]\u001b[0m\u001b[0;34m)\u001b[0m\u001b[0;34m\u001b[0m\u001b[0;34m\u001b[0m\u001b[0m\n\u001b[0m",
      "\u001b[0;32m~/opt/anaconda3/lib/python3.7/site-packages/pandas/core/frame.py\u001b[0m in \u001b[0;36m__getitem__\u001b[0;34m(self, key)\u001b[0m\n\u001b[1;32m   2978\u001b[0m             \u001b[0;32mif\u001b[0m \u001b[0mself\u001b[0m\u001b[0;34m.\u001b[0m\u001b[0mcolumns\u001b[0m\u001b[0;34m.\u001b[0m\u001b[0mnlevels\u001b[0m \u001b[0;34m>\u001b[0m \u001b[0;36m1\u001b[0m\u001b[0;34m:\u001b[0m\u001b[0;34m\u001b[0m\u001b[0;34m\u001b[0m\u001b[0m\n\u001b[1;32m   2979\u001b[0m                 \u001b[0;32mreturn\u001b[0m \u001b[0mself\u001b[0m\u001b[0;34m.\u001b[0m\u001b[0m_getitem_multilevel\u001b[0m\u001b[0;34m(\u001b[0m\u001b[0mkey\u001b[0m\u001b[0;34m)\u001b[0m\u001b[0;34m\u001b[0m\u001b[0;34m\u001b[0m\u001b[0m\n\u001b[0;32m-> 2980\u001b[0;31m             \u001b[0mindexer\u001b[0m \u001b[0;34m=\u001b[0m \u001b[0mself\u001b[0m\u001b[0;34m.\u001b[0m\u001b[0mcolumns\u001b[0m\u001b[0;34m.\u001b[0m\u001b[0mget_loc\u001b[0m\u001b[0;34m(\u001b[0m\u001b[0mkey\u001b[0m\u001b[0;34m)\u001b[0m\u001b[0;34m\u001b[0m\u001b[0;34m\u001b[0m\u001b[0m\n\u001b[0m\u001b[1;32m   2981\u001b[0m             \u001b[0;32mif\u001b[0m \u001b[0mis_integer\u001b[0m\u001b[0;34m(\u001b[0m\u001b[0mindexer\u001b[0m\u001b[0;34m)\u001b[0m\u001b[0;34m:\u001b[0m\u001b[0;34m\u001b[0m\u001b[0;34m\u001b[0m\u001b[0m\n\u001b[1;32m   2982\u001b[0m                 \u001b[0mindexer\u001b[0m \u001b[0;34m=\u001b[0m \u001b[0;34m[\u001b[0m\u001b[0mindexer\u001b[0m\u001b[0;34m]\u001b[0m\u001b[0;34m\u001b[0m\u001b[0;34m\u001b[0m\u001b[0m\n",
      "\u001b[0;32m~/opt/anaconda3/lib/python3.7/site-packages/pandas/core/indexes/base.py\u001b[0m in \u001b[0;36mget_loc\u001b[0;34m(self, key, method, tolerance)\u001b[0m\n\u001b[1;32m   2897\u001b[0m                 \u001b[0;32mreturn\u001b[0m \u001b[0mself\u001b[0m\u001b[0;34m.\u001b[0m\u001b[0m_engine\u001b[0m\u001b[0;34m.\u001b[0m\u001b[0mget_loc\u001b[0m\u001b[0;34m(\u001b[0m\u001b[0mkey\u001b[0m\u001b[0;34m)\u001b[0m\u001b[0;34m\u001b[0m\u001b[0;34m\u001b[0m\u001b[0m\n\u001b[1;32m   2898\u001b[0m             \u001b[0;32mexcept\u001b[0m \u001b[0mKeyError\u001b[0m\u001b[0;34m:\u001b[0m\u001b[0;34m\u001b[0m\u001b[0;34m\u001b[0m\u001b[0m\n\u001b[0;32m-> 2899\u001b[0;31m                 \u001b[0;32mreturn\u001b[0m \u001b[0mself\u001b[0m\u001b[0;34m.\u001b[0m\u001b[0m_engine\u001b[0m\u001b[0;34m.\u001b[0m\u001b[0mget_loc\u001b[0m\u001b[0;34m(\u001b[0m\u001b[0mself\u001b[0m\u001b[0;34m.\u001b[0m\u001b[0m_maybe_cast_indexer\u001b[0m\u001b[0;34m(\u001b[0m\u001b[0mkey\u001b[0m\u001b[0;34m)\u001b[0m\u001b[0;34m)\u001b[0m\u001b[0;34m\u001b[0m\u001b[0;34m\u001b[0m\u001b[0m\n\u001b[0m\u001b[1;32m   2900\u001b[0m         \u001b[0mindexer\u001b[0m \u001b[0;34m=\u001b[0m \u001b[0mself\u001b[0m\u001b[0;34m.\u001b[0m\u001b[0mget_indexer\u001b[0m\u001b[0;34m(\u001b[0m\u001b[0;34m[\u001b[0m\u001b[0mkey\u001b[0m\u001b[0;34m]\u001b[0m\u001b[0;34m,\u001b[0m \u001b[0mmethod\u001b[0m\u001b[0;34m=\u001b[0m\u001b[0mmethod\u001b[0m\u001b[0;34m,\u001b[0m \u001b[0mtolerance\u001b[0m\u001b[0;34m=\u001b[0m\u001b[0mtolerance\u001b[0m\u001b[0;34m)\u001b[0m\u001b[0;34m\u001b[0m\u001b[0;34m\u001b[0m\u001b[0m\n\u001b[1;32m   2901\u001b[0m         \u001b[0;32mif\u001b[0m \u001b[0mindexer\u001b[0m\u001b[0;34m.\u001b[0m\u001b[0mndim\u001b[0m \u001b[0;34m>\u001b[0m \u001b[0;36m1\u001b[0m \u001b[0;32mor\u001b[0m \u001b[0mindexer\u001b[0m\u001b[0;34m.\u001b[0m\u001b[0msize\u001b[0m \u001b[0;34m>\u001b[0m \u001b[0;36m1\u001b[0m\u001b[0;34m:\u001b[0m\u001b[0;34m\u001b[0m\u001b[0;34m\u001b[0m\u001b[0m\n",
      "\u001b[0;32mpandas/_libs/index.pyx\u001b[0m in \u001b[0;36mpandas._libs.index.IndexEngine.get_loc\u001b[0;34m()\u001b[0m\n",
      "\u001b[0;32mpandas/_libs/index.pyx\u001b[0m in \u001b[0;36mpandas._libs.index.IndexEngine.get_loc\u001b[0;34m()\u001b[0m\n",
      "\u001b[0;32mpandas/_libs/hashtable_class_helper.pxi\u001b[0m in \u001b[0;36mpandas._libs.hashtable.PyObjectHashTable.get_item\u001b[0;34m()\u001b[0m\n",
      "\u001b[0;32mpandas/_libs/hashtable_class_helper.pxi\u001b[0m in \u001b[0;36mpandas._libs.hashtable.PyObjectHashTable.get_item\u001b[0;34m()\u001b[0m\n",
      "\u001b[0;31mKeyError\u001b[0m: 'fuel'"
     ]
    }
   ],
   "source": [
    "# encoding for categorical variable - one hot encoding\n",
    "pd.get_dummies(df['fuel'])"
   ]
  },
  {
   "cell_type": "code",
   "execution_count": 227,
   "metadata": {},
   "outputs": [
    {
     "output_type": "execute_result",
     "data": {
      "text/plain": "drive_wheels\nfwd    120\nrwd     76\n4wd      9\ndtype: int64"
     },
     "metadata": {},
     "execution_count": 227
    }
   ],
   "source": [
    "#descriptive statistics for categorical variables\n",
    "\n",
    "drive_wheels_counts = df[\"drive-wheels\"].value_counts()\n",
    "drive_wheels_counts.rename(columns = {'drive-wheels': 'value_counts'}, inplace =True)\n",
    "drive_wheels_counts.index.name = 'drive_wheels'\n",
    "drive_wheels_counts"
   ]
  },
  {
   "cell_type": "code",
   "execution_count": 229,
   "metadata": {},
   "outputs": [
    {
     "output_type": "error",
     "ename": "SyntaxError",
     "evalue": "invalid syntax (<ipython-input-229-1c3fa359386e>, line 5)",
     "traceback": [
      "\u001b[0;36m  File \u001b[0;32m\"<ipython-input-229-1c3fa359386e>\"\u001b[0;36m, line \u001b[0;32m5\u001b[0m\n\u001b[0;31m    sns.factorplot(xxaxls',yaxce', d= df=df)\u001b[0m\n\u001b[0m                                ^\u001b[0m\n\u001b[0;31mSyntaxError\u001b[0m\u001b[0;31m:\u001b[0m invalid syntax\n"
     ]
    }
   ],
   "source": [
    "# descriptive statistics for numeric data - boxplot\n",
    "yax = df['price']\n",
    "xax = df['drive-wheels']\n",
    "\n",
    "sns.factorplot(xxaxls',yaxce', d= df=df)"
   ]
  },
  {
   "cell_type": "code",
   "execution_count": 231,
   "metadata": {},
   "outputs": [
    {
     "output_type": "error",
     "ename": "DataError",
     "evalue": "No numeric types to aggregate",
     "traceback": [
      "\u001b[0;31m---------------------------------------------------------------------------\u001b[0m",
      "\u001b[0;31mDataError\u001b[0m                                 Traceback (most recent call last)",
      "\u001b[0;32m<ipython-input-231-f87199e6d81b>\u001b[0m in \u001b[0;36m<module>\u001b[0;34m\u001b[0m\n\u001b[1;32m      1\u001b[0m \u001b[0mdf_test\u001b[0m \u001b[0;34m=\u001b[0m \u001b[0mdf\u001b[0m\u001b[0;34m[\u001b[0m\u001b[0;34m[\u001b[0m\u001b[0;34m'drive-wheels'\u001b[0m\u001b[0;34m,\u001b[0m\u001b[0;34m'body-style'\u001b[0m\u001b[0;34m,\u001b[0m\u001b[0;34m'price'\u001b[0m\u001b[0;34m]\u001b[0m\u001b[0;34m]\u001b[0m\u001b[0;34m\u001b[0m\u001b[0;34m\u001b[0m\u001b[0m\n\u001b[1;32m      2\u001b[0m \u001b[0mdf_test\u001b[0m\u001b[0;34m\u001b[0m\u001b[0;34m\u001b[0m\u001b[0m\n\u001b[0;32m----> 3\u001b[0;31m \u001b[0mdf_grp\u001b[0m \u001b[0;34m=\u001b[0m \u001b[0mdf_test\u001b[0m\u001b[0;34m.\u001b[0m\u001b[0mgroupby\u001b[0m\u001b[0;34m(\u001b[0m\u001b[0;34m[\u001b[0m\u001b[0;34m'drive-wheels'\u001b[0m\u001b[0;34m,\u001b[0m\u001b[0;34m'body-style'\u001b[0m\u001b[0;34m]\u001b[0m\u001b[0;34m,\u001b[0m \u001b[0mas_index\u001b[0m\u001b[0;34m=\u001b[0m\u001b[0;32mFalse\u001b[0m\u001b[0;34m)\u001b[0m\u001b[0;34m.\u001b[0m\u001b[0mmean\u001b[0m\u001b[0;34m(\u001b[0m\u001b[0;34m)\u001b[0m\u001b[0;34m\u001b[0m\u001b[0;34m\u001b[0m\u001b[0m\n\u001b[0m\u001b[1;32m      4\u001b[0m \u001b[0mdf_grp\u001b[0m\u001b[0;34m\u001b[0m\u001b[0;34m\u001b[0m\u001b[0m\n",
      "\u001b[0;32m~/opt/anaconda3/lib/python3.7/site-packages/pandas/core/groupby/groupby.py\u001b[0m in \u001b[0;36mmean\u001b[0;34m(self, *args, **kwargs)\u001b[0m\n\u001b[1;32m   1203\u001b[0m         \u001b[0;32mtry\u001b[0m\u001b[0;34m:\u001b[0m\u001b[0;34m\u001b[0m\u001b[0;34m\u001b[0m\u001b[0m\n\u001b[1;32m   1204\u001b[0m             return self._cython_agg_general(\n\u001b[0;32m-> 1205\u001b[0;31m                 \u001b[0;34m\"mean\"\u001b[0m\u001b[0;34m,\u001b[0m \u001b[0malt\u001b[0m\u001b[0;34m=\u001b[0m\u001b[0;32mlambda\u001b[0m \u001b[0mx\u001b[0m\u001b[0;34m,\u001b[0m \u001b[0maxis\u001b[0m\u001b[0;34m:\u001b[0m \u001b[0mSeries\u001b[0m\u001b[0;34m(\u001b[0m\u001b[0mx\u001b[0m\u001b[0;34m)\u001b[0m\u001b[0;34m.\u001b[0m\u001b[0mmean\u001b[0m\u001b[0;34m(\u001b[0m\u001b[0;34m**\u001b[0m\u001b[0mkwargs\u001b[0m\u001b[0;34m)\u001b[0m\u001b[0;34m,\u001b[0m \u001b[0;34m**\u001b[0m\u001b[0mkwargs\u001b[0m\u001b[0;34m\u001b[0m\u001b[0;34m\u001b[0m\u001b[0m\n\u001b[0m\u001b[1;32m   1206\u001b[0m             )\n\u001b[1;32m   1207\u001b[0m         \u001b[0;32mexcept\u001b[0m \u001b[0mGroupByError\u001b[0m\u001b[0;34m:\u001b[0m\u001b[0;34m\u001b[0m\u001b[0;34m\u001b[0m\u001b[0m\n",
      "\u001b[0;32m~/opt/anaconda3/lib/python3.7/site-packages/pandas/core/groupby/generic.py\u001b[0m in \u001b[0;36m_cython_agg_general\u001b[0;34m(self, how, alt, numeric_only, min_count)\u001b[0m\n\u001b[1;32m    126\u001b[0m     \u001b[0;32mdef\u001b[0m \u001b[0m_cython_agg_general\u001b[0m\u001b[0;34m(\u001b[0m\u001b[0mself\u001b[0m\u001b[0;34m,\u001b[0m \u001b[0mhow\u001b[0m\u001b[0;34m,\u001b[0m \u001b[0malt\u001b[0m\u001b[0;34m=\u001b[0m\u001b[0;32mNone\u001b[0m\u001b[0;34m,\u001b[0m \u001b[0mnumeric_only\u001b[0m\u001b[0;34m=\u001b[0m\u001b[0;32mTrue\u001b[0m\u001b[0;34m,\u001b[0m \u001b[0mmin_count\u001b[0m\u001b[0;34m=\u001b[0m\u001b[0;34m-\u001b[0m\u001b[0;36m1\u001b[0m\u001b[0;34m)\u001b[0m\u001b[0;34m:\u001b[0m\u001b[0;34m\u001b[0m\u001b[0;34m\u001b[0m\u001b[0m\n\u001b[1;32m    127\u001b[0m         new_items, new_blocks = self._cython_agg_blocks(\n\u001b[0;32m--> 128\u001b[0;31m             \u001b[0mhow\u001b[0m\u001b[0;34m,\u001b[0m \u001b[0malt\u001b[0m\u001b[0;34m=\u001b[0m\u001b[0malt\u001b[0m\u001b[0;34m,\u001b[0m \u001b[0mnumeric_only\u001b[0m\u001b[0;34m=\u001b[0m\u001b[0mnumeric_only\u001b[0m\u001b[0;34m,\u001b[0m \u001b[0mmin_count\u001b[0m\u001b[0;34m=\u001b[0m\u001b[0mmin_count\u001b[0m\u001b[0;34m\u001b[0m\u001b[0;34m\u001b[0m\u001b[0m\n\u001b[0m\u001b[1;32m    129\u001b[0m         )\n\u001b[1;32m    130\u001b[0m         \u001b[0;32mreturn\u001b[0m \u001b[0mself\u001b[0m\u001b[0;34m.\u001b[0m\u001b[0m_wrap_agged_blocks\u001b[0m\u001b[0;34m(\u001b[0m\u001b[0mnew_items\u001b[0m\u001b[0;34m,\u001b[0m \u001b[0mnew_blocks\u001b[0m\u001b[0;34m)\u001b[0m\u001b[0;34m\u001b[0m\u001b[0;34m\u001b[0m\u001b[0m\n",
      "\u001b[0;32m~/opt/anaconda3/lib/python3.7/site-packages/pandas/core/groupby/generic.py\u001b[0m in \u001b[0;36m_cython_agg_blocks\u001b[0;34m(self, how, alt, numeric_only, min_count)\u001b[0m\n\u001b[1;32m    186\u001b[0m \u001b[0;34m\u001b[0m\u001b[0m\n\u001b[1;32m    187\u001b[0m         \u001b[0;32mif\u001b[0m \u001b[0mlen\u001b[0m\u001b[0;34m(\u001b[0m\u001b[0mnew_blocks\u001b[0m\u001b[0;34m)\u001b[0m \u001b[0;34m==\u001b[0m \u001b[0;36m0\u001b[0m\u001b[0;34m:\u001b[0m\u001b[0;34m\u001b[0m\u001b[0;34m\u001b[0m\u001b[0m\n\u001b[0;32m--> 188\u001b[0;31m             \u001b[0;32mraise\u001b[0m \u001b[0mDataError\u001b[0m\u001b[0;34m(\u001b[0m\u001b[0;34m\"No numeric types to aggregate\"\u001b[0m\u001b[0;34m)\u001b[0m\u001b[0;34m\u001b[0m\u001b[0;34m\u001b[0m\u001b[0m\n\u001b[0m\u001b[1;32m    189\u001b[0m \u001b[0;34m\u001b[0m\u001b[0m\n\u001b[1;32m    190\u001b[0m         \u001b[0;31m# reset the locs in the blocks to correspond to our\u001b[0m\u001b[0;34m\u001b[0m\u001b[0;34m\u001b[0m\u001b[0;34m\u001b[0m\u001b[0m\n",
      "\u001b[0;31mDataError\u001b[0m: No numeric types to aggregate"
     ]
    }
   ],
   "source": [
    "df_test = df[['drive-wheels','body-style','price']]\n",
    "df_test\n",
    "df_grp = df_test.groupby(['drive-wheels','body-style'], as_index=False).mean()\n",
    "df_grp"
   ]
  },
  {
   "cell_type": "code",
   "execution_count": 233,
   "metadata": {},
   "outputs": [
    {
     "output_type": "error",
     "ename": "NameError",
     "evalue": "name 'iris' is not defined",
     "traceback": [
      "\u001b[0;31m---------------------------------------------------------------------------\u001b[0m",
      "\u001b[0;31mNameError\u001b[0m                                 Traceback (most recent call last)",
      "\u001b[0;32m<ipython-input-233-cba6f9c548ad>\u001b[0m in \u001b[0;36m<module>\u001b[0;34m\u001b[0m\n\u001b[0;32m----> 1\u001b[0;31m \u001b[0msns\u001b[0m\u001b[0;34m.\u001b[0m\u001b[0mswarmplot\u001b[0m\u001b[0;34m(\u001b[0m\u001b[0mx\u001b[0m\u001b[0;34m=\u001b[0m\u001b[0;34m\"species\"\u001b[0m\u001b[0;34m,\u001b[0m\u001b[0my\u001b[0m\u001b[0;34m=\u001b[0m\u001b[0;34m\"petal_length\"\u001b[0m\u001b[0;34m,\u001b[0m \u001b[0mdata\u001b[0m\u001b[0;34m=\u001b[0m\u001b[0miris\u001b[0m\u001b[0;34m)\u001b[0m\u001b[0;34m\u001b[0m\u001b[0;34m\u001b[0m\u001b[0m\n\u001b[0m",
      "\u001b[0;31mNameError\u001b[0m: name 'iris' is not defined"
     ]
    }
   ],
   "source": [
    "sns.swarmplot(x=\"species\",y=\"petal_length\", data=iris)\n",
    ""
   ]
  },
  {
   "cell_type": "code",
   "execution_count": 234,
   "metadata": {},
   "outputs": [
    {
     "output_type": "error",
     "ename": "AttributeError",
     "evalue": "Cannot access callable attribute 'pivot' of 'DataFrameGroupBy' objects, try using the 'apply' method",
     "traceback": [
      "\u001b[0;31m---------------------------------------------------------------------------\u001b[0m",
      "\u001b[0;31mAttributeError\u001b[0m                            Traceback (most recent call last)",
      "\u001b[0;32m<ipython-input-234-aabb80b719db>\u001b[0m in \u001b[0;36m<module>\u001b[0;34m\u001b[0m\n\u001b[1;32m      2\u001b[0m \u001b[0;34m\u001b[0m\u001b[0m\n\u001b[1;32m      3\u001b[0m \u001b[0;31m#first pivot the data\u001b[0m\u001b[0;34m\u001b[0m\u001b[0;34m\u001b[0m\u001b[0;34m\u001b[0m\u001b[0m\n\u001b[0;32m----> 4\u001b[0;31m \u001b[0mdf_pivot\u001b[0m \u001b[0;34m=\u001b[0m \u001b[0mdf_grp\u001b[0m\u001b[0;34m.\u001b[0m\u001b[0mpivot\u001b[0m\u001b[0;34m(\u001b[0m\u001b[0mindex\u001b[0m\u001b[0;34m=\u001b[0m \u001b[0;34m'drive-wheels'\u001b[0m\u001b[0;34m,\u001b[0m \u001b[0mcolumns\u001b[0m\u001b[0;34m=\u001b[0m\u001b[0;34m'body-style'\u001b[0m\u001b[0;34m)\u001b[0m\u001b[0;34m\u001b[0m\u001b[0;34m\u001b[0m\u001b[0m\n\u001b[0m\u001b[1;32m      5\u001b[0m \u001b[0;34m\u001b[0m\u001b[0m\n\u001b[1;32m      6\u001b[0m \u001b[0mplt\u001b[0m\u001b[0;34m.\u001b[0m\u001b[0mpcolor\u001b[0m\u001b[0;34m(\u001b[0m\u001b[0mdf_pivot\u001b[0m\u001b[0;34m,\u001b[0m \u001b[0mcmap\u001b[0m\u001b[0;34m=\u001b[0m\u001b[0;34m'RdBlu'\u001b[0m\u001b[0;34m)\u001b[0m\u001b[0;34m\u001b[0m\u001b[0;34m\u001b[0m\u001b[0m\n",
      "\u001b[0;32m~/opt/anaconda3/lib/python3.7/site-packages/pandas/core/groupby/groupby.py\u001b[0m in \u001b[0;36m__getattr__\u001b[0;34m(self, attr)\u001b[0m\n\u001b[1;32m    561\u001b[0m             \u001b[0;32mreturn\u001b[0m \u001b[0mself\u001b[0m\u001b[0;34m[\u001b[0m\u001b[0mattr\u001b[0m\u001b[0;34m]\u001b[0m\u001b[0;34m\u001b[0m\u001b[0;34m\u001b[0m\u001b[0m\n\u001b[1;32m    562\u001b[0m         \u001b[0;32mif\u001b[0m \u001b[0mhasattr\u001b[0m\u001b[0;34m(\u001b[0m\u001b[0mself\u001b[0m\u001b[0;34m.\u001b[0m\u001b[0mobj\u001b[0m\u001b[0;34m,\u001b[0m \u001b[0mattr\u001b[0m\u001b[0;34m)\u001b[0m\u001b[0;34m:\u001b[0m\u001b[0;34m\u001b[0m\u001b[0;34m\u001b[0m\u001b[0m\n\u001b[0;32m--> 563\u001b[0;31m             \u001b[0;32mreturn\u001b[0m \u001b[0mself\u001b[0m\u001b[0;34m.\u001b[0m\u001b[0m_make_wrapper\u001b[0m\u001b[0;34m(\u001b[0m\u001b[0mattr\u001b[0m\u001b[0;34m)\u001b[0m\u001b[0;34m\u001b[0m\u001b[0;34m\u001b[0m\u001b[0m\n\u001b[0m\u001b[1;32m    564\u001b[0m \u001b[0;34m\u001b[0m\u001b[0m\n\u001b[1;32m    565\u001b[0m         raise AttributeError(\n",
      "\u001b[0;32m~/opt/anaconda3/lib/python3.7/site-packages/pandas/core/groupby/groupby.py\u001b[0m in \u001b[0;36m_make_wrapper\u001b[0;34m(self, name)\u001b[0m\n\u001b[1;32m    602\u001b[0m                 \u001b[0;34m\"using the 'apply' method\"\u001b[0m\u001b[0;34m.\u001b[0m\u001b[0mformat\u001b[0m\u001b[0;34m(\u001b[0m\u001b[0mkind\u001b[0m\u001b[0;34m,\u001b[0m \u001b[0mname\u001b[0m\u001b[0;34m,\u001b[0m \u001b[0mtype\u001b[0m\u001b[0;34m(\u001b[0m\u001b[0mself\u001b[0m\u001b[0;34m)\u001b[0m\u001b[0;34m.\u001b[0m\u001b[0m__name__\u001b[0m\u001b[0;34m)\u001b[0m\u001b[0;34m\u001b[0m\u001b[0;34m\u001b[0m\u001b[0m\n\u001b[1;32m    603\u001b[0m             )\n\u001b[0;32m--> 604\u001b[0;31m             \u001b[0;32mraise\u001b[0m \u001b[0mAttributeError\u001b[0m\u001b[0;34m(\u001b[0m\u001b[0mmsg\u001b[0m\u001b[0;34m)\u001b[0m\u001b[0;34m\u001b[0m\u001b[0;34m\u001b[0m\u001b[0m\n\u001b[0m\u001b[1;32m    605\u001b[0m \u001b[0;34m\u001b[0m\u001b[0m\n\u001b[1;32m    606\u001b[0m         \u001b[0mself\u001b[0m\u001b[0;34m.\u001b[0m\u001b[0m_set_group_selection\u001b[0m\u001b[0;34m(\u001b[0m\u001b[0;34m)\u001b[0m\u001b[0;34m\u001b[0m\u001b[0;34m\u001b[0m\u001b[0m\n",
      "\u001b[0;31mAttributeError\u001b[0m: Cannot access callable attribute 'pivot' of 'DataFrameGroupBy' objects, try using the 'apply' method"
     ]
    }
   ],
   "source": [
    "#heatmap\n",
    "\n",
    "#first pivot the data\n",
    "df_pivot = df_grp.pivot(index= 'drive-wheels', columns='body-style')\n",
    "\n",
    "plt.pcolor(df_pivot, cmap='RdBlu')\n",
    "plt.colorbar()\n",
    "plt.show()"
   ]
  },
  {
   "cell_type": "code",
   "execution_count": null,
   "metadata": {},
   "outputs": [],
   "source": []
  },
  {
   "cell_type": "code",
   "execution_count": null,
   "metadata": {},
   "outputs": [],
   "source": []
  }
 ]
}